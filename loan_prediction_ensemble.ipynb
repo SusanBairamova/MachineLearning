{
 "cells": [
  {
   "cell_type": "markdown",
   "id": "e581dd87-871b-4663-947e-bb3b288cac85",
   "metadata": {},
   "source": [
    "Dream Housing Finance company deals in all kinds of home loans. They have presence across all urban, semi urban and rural areas. Customer first applies for home loan and after that company validates the customer eligibility for loan.\r\n",
    "Company wants to automate the loan eligibility process (real time) based on customer detail provided while filling online application form. These details are Gender, Marital Status, Education, Number of Dependents, Income, Loan Amount, Credit History and others. To automate this process, they have provided a dataset to identify the customers segments that are eligible for loan amount so that they can specifically target these customers.\r\n",
    "Variable\r\n",
    "Description\r\n",
    "Loan_ID\r\n",
    "Unique Loan ID\r\n",
    "Gender\r\n",
    "Male/ Female\r\n",
    "Married\r\n",
    "Applicant married (Y/N)\r\n",
    "Dependents\r\n",
    "Number of dependents\r\n",
    "Education\r\n",
    "Applicant Education (Graduate/ Under Graduate)\r\n",
    "Self_Employed\r\n",
    "Self employed (Y/N)\r\n",
    "ApplicantIncome\r\n",
    "Applicant income\r\n",
    "CoapplicantIncome\r\n",
    "Coapplicant income\r\n",
    "LoanAmount\r\n",
    "Loan amount in thousands\r\n",
    "Loan_Amount_Term\r\n",
    "Term of loan in months\r\n",
    "Credit_History\r\n",
    "credit history meets guidelines\r\n",
    "Property_Area\r\n",
    "Urban/ Semi Urban/ Rural\r\n",
    "Loan_Status\r\n",
    "(Target) Loan approved (Y/N)\r\n",
    "Task: You are asked to predict loan eligibility using Ensemble Learning algorithms such as Voting, BaggingClassifier, GradientBoostingClassifier, XGBClassifier, lightgbm, CatBoostClassifier."
   ]
  },
  {
   "cell_type": "code",
   "execution_count": 11,
   "id": "8ca051d8-bfb4-4ade-a1b0-afe298f90c25",
   "metadata": {},
   "outputs": [],
   "source": [
    "import numpy as np\n",
    "import pandas as pd\n",
    "\n",
    "import seaborn as sns\n",
    "import matplotlib.pyplot as plt\n",
    "\n",
    "from sklearn.model_selection import train_test_split \n",
    "from sklearn.preprocessing import RobustScaler\n",
    "from sklearn.metrics import classification_report \n",
    "\n",
    "from sklearn.ensemble import BaggingClassifier \n",
    "from sklearn.svm import SVC\n",
    "from sklearn.ensemble import RandomForestClassifier \n",
    "\n",
    "from imblearn.under_sampling import NearMiss\n",
    "from imblearn.over_sampling import RandomOverSampler\n",
    "\n",
    "\n",
    "from sklearn.ensemble import GradientBoostingClassifier \n",
    "from xgboost import XGBClassifier \n",
    "import lightgbm as lgb\n",
    "from catboost import CatBoostClassifier\n",
    "from sklearn.linear_model import LinearRegression\n",
    "from sklearn.svm import SVR\n",
    "from sklearn.tree import DecisionTreeRegressor\n",
    "\n",
    "\n",
    "from sklearn.linear_model import LogisticRegression\n",
    "from sklearn.tree import DecisionTreeClassifier\n",
    "from sklearn.svm import SVC\n",
    "from sklearn.ensemble import VotingClassifier\n",
    "import warnings \n",
    "warnings.filterwarnings('ignore')\n",
    "pd.options.display.max_rows = 100\n",
    "pd.options.display.max_columns = 100\n"
   ]
  },
  {
   "cell_type": "code",
   "execution_count": 13,
   "id": "165b94e9-7754-461e-8bc0-f5becedfa3a9",
   "metadata": {},
   "outputs": [
    {
     "data": {
      "text/html": [
       "<div>\n",
       "<style scoped>\n",
       "    .dataframe tbody tr th:only-of-type {\n",
       "        vertical-align: middle;\n",
       "    }\n",
       "\n",
       "    .dataframe tbody tr th {\n",
       "        vertical-align: top;\n",
       "    }\n",
       "\n",
       "    .dataframe thead th {\n",
       "        text-align: right;\n",
       "    }\n",
       "</style>\n",
       "<table border=\"1\" class=\"dataframe\">\n",
       "  <thead>\n",
       "    <tr style=\"text-align: right;\">\n",
       "      <th></th>\n",
       "      <th>Loan_ID</th>\n",
       "      <th>Gender</th>\n",
       "      <th>Married</th>\n",
       "      <th>Dependents</th>\n",
       "      <th>Education</th>\n",
       "      <th>Self_Employed</th>\n",
       "      <th>ApplicantIncome</th>\n",
       "      <th>CoapplicantIncome</th>\n",
       "      <th>LoanAmount</th>\n",
       "      <th>Loan_Amount_Term</th>\n",
       "      <th>Credit_History</th>\n",
       "      <th>Property_Area</th>\n",
       "      <th>Loan_Status</th>\n",
       "    </tr>\n",
       "  </thead>\n",
       "  <tbody>\n",
       "    <tr>\n",
       "      <th>0</th>\n",
       "      <td>LP001002</td>\n",
       "      <td>Male</td>\n",
       "      <td>No</td>\n",
       "      <td>0</td>\n",
       "      <td>Graduate</td>\n",
       "      <td>No</td>\n",
       "      <td>5849</td>\n",
       "      <td>0.0</td>\n",
       "      <td>NaN</td>\n",
       "      <td>360.0</td>\n",
       "      <td>1.0</td>\n",
       "      <td>Urban</td>\n",
       "      <td>Y</td>\n",
       "    </tr>\n",
       "    <tr>\n",
       "      <th>1</th>\n",
       "      <td>LP001003</td>\n",
       "      <td>Male</td>\n",
       "      <td>Yes</td>\n",
       "      <td>1</td>\n",
       "      <td>Graduate</td>\n",
       "      <td>No</td>\n",
       "      <td>4583</td>\n",
       "      <td>1508.0</td>\n",
       "      <td>128.0</td>\n",
       "      <td>360.0</td>\n",
       "      <td>1.0</td>\n",
       "      <td>Rural</td>\n",
       "      <td>N</td>\n",
       "    </tr>\n",
       "    <tr>\n",
       "      <th>2</th>\n",
       "      <td>LP001005</td>\n",
       "      <td>Male</td>\n",
       "      <td>Yes</td>\n",
       "      <td>0</td>\n",
       "      <td>Graduate</td>\n",
       "      <td>Yes</td>\n",
       "      <td>3000</td>\n",
       "      <td>0.0</td>\n",
       "      <td>66.0</td>\n",
       "      <td>360.0</td>\n",
       "      <td>1.0</td>\n",
       "      <td>Urban</td>\n",
       "      <td>Y</td>\n",
       "    </tr>\n",
       "    <tr>\n",
       "      <th>3</th>\n",
       "      <td>LP001006</td>\n",
       "      <td>Male</td>\n",
       "      <td>Yes</td>\n",
       "      <td>0</td>\n",
       "      <td>Not Graduate</td>\n",
       "      <td>No</td>\n",
       "      <td>2583</td>\n",
       "      <td>2358.0</td>\n",
       "      <td>120.0</td>\n",
       "      <td>360.0</td>\n",
       "      <td>1.0</td>\n",
       "      <td>Urban</td>\n",
       "      <td>Y</td>\n",
       "    </tr>\n",
       "    <tr>\n",
       "      <th>4</th>\n",
       "      <td>LP001008</td>\n",
       "      <td>Male</td>\n",
       "      <td>No</td>\n",
       "      <td>0</td>\n",
       "      <td>Graduate</td>\n",
       "      <td>No</td>\n",
       "      <td>6000</td>\n",
       "      <td>0.0</td>\n",
       "      <td>141.0</td>\n",
       "      <td>360.0</td>\n",
       "      <td>1.0</td>\n",
       "      <td>Urban</td>\n",
       "      <td>Y</td>\n",
       "    </tr>\n",
       "  </tbody>\n",
       "</table>\n",
       "</div>"
      ],
      "text/plain": [
       "    Loan_ID Gender Married Dependents     Education Self_Employed  \\\n",
       "0  LP001002   Male      No          0      Graduate            No   \n",
       "1  LP001003   Male     Yes          1      Graduate            No   \n",
       "2  LP001005   Male     Yes          0      Graduate           Yes   \n",
       "3  LP001006   Male     Yes          0  Not Graduate            No   \n",
       "4  LP001008   Male      No          0      Graduate            No   \n",
       "\n",
       "   ApplicantIncome  CoapplicantIncome  LoanAmount  Loan_Amount_Term  \\\n",
       "0             5849                0.0         NaN             360.0   \n",
       "1             4583             1508.0       128.0             360.0   \n",
       "2             3000                0.0        66.0             360.0   \n",
       "3             2583             2358.0       120.0             360.0   \n",
       "4             6000                0.0       141.0             360.0   \n",
       "\n",
       "   Credit_History Property_Area Loan_Status  \n",
       "0             1.0         Urban           Y  \n",
       "1             1.0         Rural           N  \n",
       "2             1.0         Urban           Y  \n",
       "3             1.0         Urban           Y  \n",
       "4             1.0         Urban           Y  "
      ]
     },
     "execution_count": 13,
     "metadata": {},
     "output_type": "execute_result"
    }
   ],
   "source": [
    "df1=pd.read_csv('loan_prediction.csv')\n",
    "df1.head()"
   ]
  },
  {
   "cell_type": "code",
   "execution_count": 15,
   "id": "cae07fbf-2a79-47f0-9a87-369c0b9488b2",
   "metadata": {},
   "outputs": [],
   "source": [
    "import copy\n",
    "df=copy.deepcopy(df1)"
   ]
  },
  {
   "cell_type": "code",
   "execution_count": 17,
   "id": "1c1189c6-36cc-4fb7-82dd-7ca589f823be",
   "metadata": {},
   "outputs": [
    {
     "data": {
      "text/plain": [
       "(614, 13)"
      ]
     },
     "execution_count": 17,
     "metadata": {},
     "output_type": "execute_result"
    }
   ],
   "source": [
    "df.shape"
   ]
  },
  {
   "cell_type": "code",
   "execution_count": 19,
   "id": "cf0ecae6-add4-4e85-94db-c9b9dd0909d1",
   "metadata": {},
   "outputs": [
    {
     "data": {
      "text/plain": [
       "Index(['Loan_ID', 'Gender', 'Married', 'Dependents', 'Education',\n",
       "       'Self_Employed', 'ApplicantIncome', 'CoapplicantIncome', 'LoanAmount',\n",
       "       'Loan_Amount_Term', 'Credit_History', 'Property_Area', 'Loan_Status'],\n",
       "      dtype='object')"
      ]
     },
     "execution_count": 19,
     "metadata": {},
     "output_type": "execute_result"
    }
   ],
   "source": [
    "df.columns"
   ]
  },
  {
   "cell_type": "code",
   "execution_count": 21,
   "id": "e6765137-f962-4dc5-8d08-53907bd64592",
   "metadata": {},
   "outputs": [
    {
     "data": {
      "text/plain": [
       "Loan_Status\n",
       "Y    422\n",
       "N    192\n",
       "Name: count, dtype: int64"
      ]
     },
     "execution_count": 21,
     "metadata": {},
     "output_type": "execute_result"
    }
   ],
   "source": [
    "df['Loan_Status'].value_counts()"
   ]
  },
  {
   "cell_type": "code",
   "execution_count": 23,
   "id": "2e9718f6-62ea-41d0-8d46-b9c0e6cbc4ff",
   "metadata": {},
   "outputs": [],
   "source": [
    "# imbalanced data"
   ]
  },
  {
   "cell_type": "code",
   "execution_count": 25,
   "id": "59267885-9b06-4d34-8152-ea33b28ff92b",
   "metadata": {},
   "outputs": [
    {
     "data": {
      "text/plain": [
       "149"
      ]
     },
     "execution_count": 25,
     "metadata": {},
     "output_type": "execute_result"
    }
   ],
   "source": [
    "df.isnull().sum().sum() # need replace nulls"
   ]
  },
  {
   "cell_type": "code",
   "execution_count": 27,
   "id": "d274654f-0b73-4a3e-8196-ae62a2156fd6",
   "metadata": {},
   "outputs": [
    {
     "name": "stdout",
     "output_type": "stream",
     "text": [
      "<class 'pandas.core.frame.DataFrame'>\n",
      "RangeIndex: 614 entries, 0 to 613\n",
      "Data columns (total 13 columns):\n",
      " #   Column             Non-Null Count  Dtype  \n",
      "---  ------             --------------  -----  \n",
      " 0   Loan_ID            614 non-null    object \n",
      " 1   Gender             601 non-null    object \n",
      " 2   Married            611 non-null    object \n",
      " 3   Dependents         599 non-null    object \n",
      " 4   Education          614 non-null    object \n",
      " 5   Self_Employed      582 non-null    object \n",
      " 6   ApplicantIncome    614 non-null    int64  \n",
      " 7   CoapplicantIncome  614 non-null    float64\n",
      " 8   LoanAmount         592 non-null    float64\n",
      " 9   Loan_Amount_Term   600 non-null    float64\n",
      " 10  Credit_History     564 non-null    float64\n",
      " 11  Property_Area      614 non-null    object \n",
      " 12  Loan_Status        614 non-null    object \n",
      "dtypes: float64(4), int64(1), object(8)\n",
      "memory usage: 62.5+ KB\n"
     ]
    },
    {
     "data": {
      "text/plain": [
       "(None,\n",
       " Loan_ID              614\n",
       " Gender                 2\n",
       " Married                2\n",
       " Dependents             4\n",
       " Education              2\n",
       " Self_Employed          2\n",
       " ApplicantIncome      505\n",
       " CoapplicantIncome    287\n",
       " LoanAmount           203\n",
       " Loan_Amount_Term      10\n",
       " Credit_History         2\n",
       " Property_Area          3\n",
       " Loan_Status            2\n",
       " dtype: int64)"
      ]
     },
     "execution_count": 27,
     "metadata": {},
     "output_type": "execute_result"
    }
   ],
   "source": [
    "df.info(), df.nunique()"
   ]
  },
  {
   "cell_type": "code",
   "execution_count": 29,
   "id": "50b0564a-8373-49b5-aa8d-7dda24db32cb",
   "metadata": {},
   "outputs": [
    {
     "data": {
      "text/plain": [
       "'0   Loan_ID                 object   614  no need => drop\\n 1   Gender                 object   2    OneHotEncoder\\n 2   Married                object   2    OneHotEncoder\\n 3   Dependents             object   4    OneHotEncoder  [0,1,2,3+,nan]\\n 4   Education              object   2    OneHotEncoder\\n 5   Self_Employed          object   2    OneHotEncoder\\n 6   ApplicantIncome        int64    \\n 7   CoapplicantIncome      float64\\n 8   LoanAmount             float64\\n 9   Loan_Amount_Term       float64\\n 10  Credit_History         float64\\n 11  Property_Area          object   3   OneHotEncoder  [Urban/semi urban/rural]\\n 12  Loan_Status            object   2   OneHotEncoder\\n\\n- drop\\n-one hot\\n- replace null\\n- train test split\\n- scaler\\n-undersampling and oversampling \\n- bagging and boosting models'"
      ]
     },
     "execution_count": 29,
     "metadata": {},
     "output_type": "execute_result"
    }
   ],
   "source": [
    "\"\"\"0   Loan_ID                 object   614  no need => drop\n",
    " 1   Gender                 object   2    OneHotEncoder\n",
    " 2   Married                object   2    OneHotEncoder\n",
    " 3   Dependents             object   4    OneHotEncoder  [0,1,2,3+,nan]\n",
    " 4   Education              object   2    OneHotEncoder\n",
    " 5   Self_Employed          object   2    OneHotEncoder\n",
    " 6   ApplicantIncome        int64    \n",
    " 7   CoapplicantIncome      float64\n",
    " 8   LoanAmount             float64\n",
    " 9   Loan_Amount_Term       float64\n",
    " 10  Credit_History         float64\n",
    " 11  Property_Area          object   3   OneHotEncoder  [Urban/semi urban/rural]\n",
    " 12  Loan_Status            object   2   OneHotEncoder\n",
    "\n",
    "- drop\n",
    "-one hot\n",
    "- replace null\n",
    "- train test split\n",
    "- scaler\n",
    "-undersampling and oversampling \n",
    "- bagging and boosting models\"\"\""
   ]
  },
  {
   "cell_type": "code",
   "execution_count": 31,
   "id": "63a7b8bb-a9e4-4b4f-953e-ba16fdceaf6f",
   "metadata": {},
   "outputs": [
    {
     "data": {
      "text/html": [
       "<div>\n",
       "<style scoped>\n",
       "    .dataframe tbody tr th:only-of-type {\n",
       "        vertical-align: middle;\n",
       "    }\n",
       "\n",
       "    .dataframe tbody tr th {\n",
       "        vertical-align: top;\n",
       "    }\n",
       "\n",
       "    .dataframe thead th {\n",
       "        text-align: right;\n",
       "    }\n",
       "</style>\n",
       "<table border=\"1\" class=\"dataframe\">\n",
       "  <thead>\n",
       "    <tr style=\"text-align: right;\">\n",
       "      <th></th>\n",
       "      <th>count</th>\n",
       "      <th>mean</th>\n",
       "      <th>std</th>\n",
       "      <th>min</th>\n",
       "      <th>25%</th>\n",
       "      <th>50%</th>\n",
       "      <th>75%</th>\n",
       "      <th>max</th>\n",
       "    </tr>\n",
       "  </thead>\n",
       "  <tbody>\n",
       "    <tr>\n",
       "      <th>ApplicantIncome</th>\n",
       "      <td>614.0</td>\n",
       "      <td>5403.459283</td>\n",
       "      <td>6109.041673</td>\n",
       "      <td>150.0</td>\n",
       "      <td>2877.5</td>\n",
       "      <td>3812.5</td>\n",
       "      <td>5795.00</td>\n",
       "      <td>81000.0</td>\n",
       "    </tr>\n",
       "    <tr>\n",
       "      <th>CoapplicantIncome</th>\n",
       "      <td>614.0</td>\n",
       "      <td>1621.245798</td>\n",
       "      <td>2926.248369</td>\n",
       "      <td>0.0</td>\n",
       "      <td>0.0</td>\n",
       "      <td>1188.5</td>\n",
       "      <td>2297.25</td>\n",
       "      <td>41667.0</td>\n",
       "    </tr>\n",
       "    <tr>\n",
       "      <th>LoanAmount</th>\n",
       "      <td>592.0</td>\n",
       "      <td>146.412162</td>\n",
       "      <td>85.587325</td>\n",
       "      <td>9.0</td>\n",
       "      <td>100.0</td>\n",
       "      <td>128.0</td>\n",
       "      <td>168.00</td>\n",
       "      <td>700.0</td>\n",
       "    </tr>\n",
       "    <tr>\n",
       "      <th>Loan_Amount_Term</th>\n",
       "      <td>600.0</td>\n",
       "      <td>342.000000</td>\n",
       "      <td>65.120410</td>\n",
       "      <td>12.0</td>\n",
       "      <td>360.0</td>\n",
       "      <td>360.0</td>\n",
       "      <td>360.00</td>\n",
       "      <td>480.0</td>\n",
       "    </tr>\n",
       "    <tr>\n",
       "      <th>Credit_History</th>\n",
       "      <td>564.0</td>\n",
       "      <td>0.842199</td>\n",
       "      <td>0.364878</td>\n",
       "      <td>0.0</td>\n",
       "      <td>1.0</td>\n",
       "      <td>1.0</td>\n",
       "      <td>1.00</td>\n",
       "      <td>1.0</td>\n",
       "    </tr>\n",
       "  </tbody>\n",
       "</table>\n",
       "</div>"
      ],
      "text/plain": [
       "                   count         mean          std    min     25%     50%  \\\n",
       "ApplicantIncome    614.0  5403.459283  6109.041673  150.0  2877.5  3812.5   \n",
       "CoapplicantIncome  614.0  1621.245798  2926.248369    0.0     0.0  1188.5   \n",
       "LoanAmount         592.0   146.412162    85.587325    9.0   100.0   128.0   \n",
       "Loan_Amount_Term   600.0   342.000000    65.120410   12.0   360.0   360.0   \n",
       "Credit_History     564.0     0.842199     0.364878    0.0     1.0     1.0   \n",
       "\n",
       "                       75%      max  \n",
       "ApplicantIncome    5795.00  81000.0  \n",
       "CoapplicantIncome  2297.25  41667.0  \n",
       "LoanAmount          168.00    700.0  \n",
       "Loan_Amount_Term    360.00    480.0  \n",
       "Credit_History        1.00      1.0  "
      ]
     },
     "execution_count": 31,
     "metadata": {},
     "output_type": "execute_result"
    }
   ],
   "source": [
    "df.describe().T"
   ]
  },
  {
   "cell_type": "code",
   "execution_count": 33,
   "id": "a5ae8285-c983-44ed-83bf-e5f7b284a847",
   "metadata": {},
   "outputs": [],
   "source": [
    "# Need using Scaler, let's use RobustScaler"
   ]
  },
  {
   "cell_type": "markdown",
   "id": "5c4d3297-4fb2-4329-aa07-c09ee3cb3d03",
   "metadata": {},
   "source": [
    "# Fillna nulls"
   ]
  },
  {
   "cell_type": "code",
   "execution_count": 36,
   "id": "3f1a4e13-0bae-42ba-af84-8c32c97365ec",
   "metadata": {},
   "outputs": [
    {
     "data": {
      "text/plain": [
       "Loan_ID               0\n",
       "Gender               13\n",
       "Married               3\n",
       "Dependents           15\n",
       "Education             0\n",
       "Self_Employed        32\n",
       "ApplicantIncome       0\n",
       "CoapplicantIncome     0\n",
       "LoanAmount           22\n",
       "Loan_Amount_Term     14\n",
       "Credit_History       50\n",
       "Property_Area         0\n",
       "Loan_Status           0\n",
       "dtype: int64"
      ]
     },
     "execution_count": 36,
     "metadata": {},
     "output_type": "execute_result"
    }
   ],
   "source": [
    "df.isnull().sum()"
   ]
  },
  {
   "cell_type": "code",
   "execution_count": 38,
   "id": "d21fe91b-03f0-4b71-ab50-61d7b09b4e66",
   "metadata": {},
   "outputs": [],
   "source": [
    "cat_col= ['Gender', 'Married', 'Dependents','Self_Employed', 'Credit_History']\n",
    "num_col= ['LoanAmount','Loan_Amount_Term']"
   ]
  },
  {
   "cell_type": "code",
   "execution_count": 40,
   "id": "d2a7d38c-8815-47d4-a3a4-bed147620cf1",
   "metadata": {},
   "outputs": [],
   "source": [
    "for col in num_col:\n",
    "    median_value = df[col].median()\n",
    "    df[col].fillna(median_value, inplace=True)"
   ]
  },
  {
   "cell_type": "code",
   "execution_count": 42,
   "id": "b76ae35a-e503-4076-856c-30199ae8e4a8",
   "metadata": {},
   "outputs": [],
   "source": [
    "for col in cat_col:\n",
    "    mode_value = df[col].mode()[0]\n",
    "    df[col].fillna(mode_value, inplace=True)"
   ]
  },
  {
   "cell_type": "code",
   "execution_count": 44,
   "id": "2f14c861-529b-4456-96e9-dccf95966dc1",
   "metadata": {},
   "outputs": [
    {
     "data": {
      "text/plain": [
       "Loan_ID              0\n",
       "Gender               0\n",
       "Married              0\n",
       "Dependents           0\n",
       "Education            0\n",
       "Self_Employed        0\n",
       "ApplicantIncome      0\n",
       "CoapplicantIncome    0\n",
       "LoanAmount           0\n",
       "Loan_Amount_Term     0\n",
       "Credit_History       0\n",
       "Property_Area        0\n",
       "Loan_Status          0\n",
       "dtype: int64"
      ]
     },
     "execution_count": 44,
     "metadata": {},
     "output_type": "execute_result"
    }
   ],
   "source": [
    "df.isnull().sum()"
   ]
  },
  {
   "cell_type": "code",
   "execution_count": 46,
   "id": "a8eeed01-76ae-42f9-9a51-43cc9c45108d",
   "metadata": {
    "scrolled": true
   },
   "outputs": [
    {
     "data": {
      "text/plain": [
       "<function matplotlib.pyplot.show(close=None, block=None)>"
      ]
     },
     "execution_count": 46,
     "metadata": {},
     "output_type": "execute_result"
    },
    {
     "data": {
      "image/png": "[encoded data removed]",
      "text/plain": [
       "<Figure size 2000x5000 with 1 Axes>"
      ]
     },
     "metadata": {},
     "output_type": "display_data"
    }
   ],
   "source": [
    "%matplotlib inline\n",
    "\n",
    "plt.figure(figsize = (20,50))\n",
    "ax = sns.boxplot(data = df, orient = \"h\")\n",
    "ax.set(xscale = \"log\")\n",
    "plt.show"
   ]
  },
  {
   "cell_type": "code",
   "execution_count": 48,
   "id": "6285e490-02a7-496f-91b1-3234c4e49d0d",
   "metadata": {},
   "outputs": [],
   "source": [
    "# Need using Scaler,  RobustScaler will be most appropriate"
   ]
  },
  {
   "cell_type": "markdown",
   "id": "34505495-0c7b-4977-9339-d5975c56d426",
   "metadata": {},
   "source": [
    "### Drop and One Hot E"
   ]
  },
  {
   "cell_type": "code",
   "execution_count": 51,
   "id": "31127f09-66cc-4b84-9917-3a228038d661",
   "metadata": {},
   "outputs": [],
   "source": [
    "df.drop('Loan_ID', axis=1, inplace=True)"
   ]
  },
  {
   "cell_type": "code",
   "execution_count": 53,
   "id": "3fe55137-ec9b-4c5f-884a-ef57fbebc73f",
   "metadata": {},
   "outputs": [
    {
     "data": {
      "text/html": [
       "<div>\n",
       "<style scoped>\n",
       "    .dataframe tbody tr th:only-of-type {\n",
       "        vertical-align: middle;\n",
       "    }\n",
       "\n",
       "    .dataframe tbody tr th {\n",
       "        vertical-align: top;\n",
       "    }\n",
       "\n",
       "    .dataframe thead th {\n",
       "        text-align: right;\n",
       "    }\n",
       "</style>\n",
       "<table border=\"1\" class=\"dataframe\">\n",
       "  <thead>\n",
       "    <tr style=\"text-align: right;\">\n",
       "      <th></th>\n",
       "      <th>ApplicantIncome</th>\n",
       "      <th>CoapplicantIncome</th>\n",
       "      <th>LoanAmount</th>\n",
       "      <th>Loan_Amount_Term</th>\n",
       "      <th>Credit_History</th>\n",
       "      <th>Gender_Male</th>\n",
       "      <th>Married_Yes</th>\n",
       "      <th>Dependents_1</th>\n",
       "      <th>Dependents_2</th>\n",
       "      <th>Dependents_3+</th>\n",
       "      <th>Education_Not Graduate</th>\n",
       "      <th>Self_Employed_Yes</th>\n",
       "      <th>Property_Area_Semiurban</th>\n",
       "      <th>Property_Area_Urban</th>\n",
       "      <th>Loan_Status_Y</th>\n",
       "    </tr>\n",
       "  </thead>\n",
       "  <tbody>\n",
       "    <tr>\n",
       "      <th>0</th>\n",
       "      <td>5849</td>\n",
       "      <td>0.0</td>\n",
       "      <td>128.0</td>\n",
       "      <td>360.0</td>\n",
       "      <td>1.0</td>\n",
       "      <td>True</td>\n",
       "      <td>False</td>\n",
       "      <td>False</td>\n",
       "      <td>False</td>\n",
       "      <td>False</td>\n",
       "      <td>False</td>\n",
       "      <td>False</td>\n",
       "      <td>False</td>\n",
       "      <td>True</td>\n",
       "      <td>True</td>\n",
       "    </tr>\n",
       "    <tr>\n",
       "      <th>1</th>\n",
       "      <td>4583</td>\n",
       "      <td>1508.0</td>\n",
       "      <td>128.0</td>\n",
       "      <td>360.0</td>\n",
       "      <td>1.0</td>\n",
       "      <td>True</td>\n",
       "      <td>True</td>\n",
       "      <td>True</td>\n",
       "      <td>False</td>\n",
       "      <td>False</td>\n",
       "      <td>False</td>\n",
       "      <td>False</td>\n",
       "      <td>False</td>\n",
       "      <td>False</td>\n",
       "      <td>False</td>\n",
       "    </tr>\n",
       "    <tr>\n",
       "      <th>2</th>\n",
       "      <td>3000</td>\n",
       "      <td>0.0</td>\n",
       "      <td>66.0</td>\n",
       "      <td>360.0</td>\n",
       "      <td>1.0</td>\n",
       "      <td>True</td>\n",
       "      <td>True</td>\n",
       "      <td>False</td>\n",
       "      <td>False</td>\n",
       "      <td>False</td>\n",
       "      <td>False</td>\n",
       "      <td>True</td>\n",
       "      <td>False</td>\n",
       "      <td>True</td>\n",
       "      <td>True</td>\n",
       "    </tr>\n",
       "    <tr>\n",
       "      <th>3</th>\n",
       "      <td>2583</td>\n",
       "      <td>2358.0</td>\n",
       "      <td>120.0</td>\n",
       "      <td>360.0</td>\n",
       "      <td>1.0</td>\n",
       "      <td>True</td>\n",
       "      <td>True</td>\n",
       "      <td>False</td>\n",
       "      <td>False</td>\n",
       "      <td>False</td>\n",
       "      <td>True</td>\n",
       "      <td>False</td>\n",
       "      <td>False</td>\n",
       "      <td>True</td>\n",
       "      <td>True</td>\n",
       "    </tr>\n",
       "    <tr>\n",
       "      <th>4</th>\n",
       "      <td>6000</td>\n",
       "      <td>0.0</td>\n",
       "      <td>141.0</td>\n",
       "      <td>360.0</td>\n",
       "      <td>1.0</td>\n",
       "      <td>True</td>\n",
       "      <td>False</td>\n",
       "      <td>False</td>\n",
       "      <td>False</td>\n",
       "      <td>False</td>\n",
       "      <td>False</td>\n",
       "      <td>False</td>\n",
       "      <td>False</td>\n",
       "      <td>True</td>\n",
       "      <td>True</td>\n",
       "    </tr>\n",
       "    <tr>\n",
       "      <th>...</th>\n",
       "      <td>...</td>\n",
       "      <td>...</td>\n",
       "      <td>...</td>\n",
       "      <td>...</td>\n",
       "      <td>...</td>\n",
       "      <td>...</td>\n",
       "      <td>...</td>\n",
       "      <td>...</td>\n",
       "      <td>...</td>\n",
       "      <td>...</td>\n",
       "      <td>...</td>\n",
       "      <td>...</td>\n",
       "      <td>...</td>\n",
       "      <td>...</td>\n",
       "      <td>...</td>\n",
       "    </tr>\n",
       "    <tr>\n",
       "      <th>609</th>\n",
       "      <td>2900</td>\n",
       "      <td>0.0</td>\n",
       "      <td>71.0</td>\n",
       "      <td>360.0</td>\n",
       "      <td>1.0</td>\n",
       "      <td>False</td>\n",
       "      <td>False</td>\n",
       "      <td>False</td>\n",
       "      <td>False</td>\n",
       "      <td>False</td>\n",
       "      <td>False</td>\n",
       "      <td>False</td>\n",
       "      <td>False</td>\n",
       "      <td>False</td>\n",
       "      <td>True</td>\n",
       "    </tr>\n",
       "    <tr>\n",
       "      <th>610</th>\n",
       "      <td>4106</td>\n",
       "      <td>0.0</td>\n",
       "      <td>40.0</td>\n",
       "      <td>180.0</td>\n",
       "      <td>1.0</td>\n",
       "      <td>True</td>\n",
       "      <td>True</td>\n",
       "      <td>False</td>\n",
       "      <td>False</td>\n",
       "      <td>True</td>\n",
       "      <td>False</td>\n",
       "      <td>False</td>\n",
       "      <td>False</td>\n",
       "      <td>False</td>\n",
       "      <td>True</td>\n",
       "    </tr>\n",
       "    <tr>\n",
       "      <th>611</th>\n",
       "      <td>8072</td>\n",
       "      <td>240.0</td>\n",
       "      <td>253.0</td>\n",
       "      <td>360.0</td>\n",
       "      <td>1.0</td>\n",
       "      <td>True</td>\n",
       "      <td>True</td>\n",
       "      <td>True</td>\n",
       "      <td>False</td>\n",
       "      <td>False</td>\n",
       "      <td>False</td>\n",
       "      <td>False</td>\n",
       "      <td>False</td>\n",
       "      <td>True</td>\n",
       "      <td>True</td>\n",
       "    </tr>\n",
       "    <tr>\n",
       "      <th>612</th>\n",
       "      <td>7583</td>\n",
       "      <td>0.0</td>\n",
       "      <td>187.0</td>\n",
       "      <td>360.0</td>\n",
       "      <td>1.0</td>\n",
       "      <td>True</td>\n",
       "      <td>True</td>\n",
       "      <td>False</td>\n",
       "      <td>True</td>\n",
       "      <td>False</td>\n",
       "      <td>False</td>\n",
       "      <td>False</td>\n",
       "      <td>False</td>\n",
       "      <td>True</td>\n",
       "      <td>True</td>\n",
       "    </tr>\n",
       "    <tr>\n",
       "      <th>613</th>\n",
       "      <td>4583</td>\n",
       "      <td>0.0</td>\n",
       "      <td>133.0</td>\n",
       "      <td>360.0</td>\n",
       "      <td>0.0</td>\n",
       "      <td>False</td>\n",
       "      <td>False</td>\n",
       "      <td>False</td>\n",
       "      <td>False</td>\n",
       "      <td>False</td>\n",
       "      <td>False</td>\n",
       "      <td>True</td>\n",
       "      <td>True</td>\n",
       "      <td>False</td>\n",
       "      <td>False</td>\n",
       "    </tr>\n",
       "  </tbody>\n",
       "</table>\n",
       "<p>614 rows × 15 columns</p>\n",
       "</div>"
      ],
      "text/plain": [
       "     ApplicantIncome  CoapplicantIncome  LoanAmount  Loan_Amount_Term  \\\n",
       "0               5849                0.0       128.0             360.0   \n",
       "1               4583             1508.0       128.0             360.0   \n",
       "2               3000                0.0        66.0             360.0   \n",
       "3               2583             2358.0       120.0             360.0   \n",
       "4               6000                0.0       141.0             360.0   \n",
       "..               ...                ...         ...               ...   \n",
       "609             2900                0.0        71.0             360.0   \n",
       "610             4106                0.0        40.0             180.0   \n",
       "611             8072              240.0       253.0             360.0   \n",
       "612             7583                0.0       187.0             360.0   \n",
       "613             4583                0.0       133.0             360.0   \n",
       "\n",
       "     Credit_History  Gender_Male  Married_Yes  Dependents_1  Dependents_2  \\\n",
       "0               1.0         True        False         False         False   \n",
       "1               1.0         True         True          True         False   \n",
       "2               1.0         True         True         False         False   \n",
       "3               1.0         True         True         False         False   \n",
       "4               1.0         True        False         False         False   \n",
       "..              ...          ...          ...           ...           ...   \n",
       "609             1.0        False        False         False         False   \n",
       "610             1.0         True         True         False         False   \n",
       "611             1.0         True         True          True         False   \n",
       "612             1.0         True         True         False          True   \n",
       "613             0.0        False        False         False         False   \n",
       "\n",
       "     Dependents_3+  Education_Not Graduate  Self_Employed_Yes  \\\n",
       "0            False                   False              False   \n",
       "1            False                   False              False   \n",
       "2            False                   False               True   \n",
       "3            False                    True              False   \n",
       "4            False                   False              False   \n",
       "..             ...                     ...                ...   \n",
       "609          False                   False              False   \n",
       "610           True                   False              False   \n",
       "611          False                   False              False   \n",
       "612          False                   False              False   \n",
       "613          False                   False               True   \n",
       "\n",
       "     Property_Area_Semiurban  Property_Area_Urban  Loan_Status_Y  \n",
       "0                      False                 True           True  \n",
       "1                      False                False          False  \n",
       "2                      False                 True           True  \n",
       "3                      False                 True           True  \n",
       "4                      False                 True           True  \n",
       "..                       ...                  ...            ...  \n",
       "609                    False                False           True  \n",
       "610                    False                False           True  \n",
       "611                    False                 True           True  \n",
       "612                    False                 True           True  \n",
       "613                     True                False          False  \n",
       "\n",
       "[614 rows x 15 columns]"
      ]
     },
     "execution_count": 53,
     "metadata": {},
     "output_type": "execute_result"
    }
   ],
   "source": [
    "df_dummies=pd.get_dummies(df, columns=['Gender', 'Married', 'Dependents', 'Education',\n",
    "       'Self_Employed', 'Property_Area', 'Loan_Status'], drop_first=True)\n",
    "df_dummies"
   ]
  },
  {
   "cell_type": "code",
   "execution_count": 55,
   "id": "dca92526-faef-4bf3-aef1-af9bffe3e3ab",
   "metadata": {},
   "outputs": [],
   "source": [
    "df_dummies=df_dummies.replace({ True:1, False:0})"
   ]
  },
  {
   "cell_type": "code",
   "execution_count": 57,
   "id": "ae187ad7-d91e-44aa-bd1c-2ca68f97e4fd",
   "metadata": {},
   "outputs": [
    {
     "name": "stdout",
     "output_type": "stream",
     "text": [
      "<class 'pandas.core.frame.DataFrame'>\n",
      "RangeIndex: 614 entries, 0 to 613\n",
      "Data columns (total 15 columns):\n",
      " #   Column                   Non-Null Count  Dtype  \n",
      "---  ------                   --------------  -----  \n",
      " 0   ApplicantIncome          614 non-null    int64  \n",
      " 1   CoapplicantIncome        614 non-null    float64\n",
      " 2   LoanAmount               614 non-null    float64\n",
      " 3   Loan_Amount_Term         614 non-null    float64\n",
      " 4   Credit_History           614 non-null    float64\n",
      " 5   Gender_Male              614 non-null    int64  \n",
      " 6   Married_Yes              614 non-null    int64  \n",
      " 7   Dependents_1             614 non-null    int64  \n",
      " 8   Dependents_2             614 non-null    int64  \n",
      " 9   Dependents_3+            614 non-null    int64  \n",
      " 10  Education_Not Graduate   614 non-null    int64  \n",
      " 11  Self_Employed_Yes        614 non-null    int64  \n",
      " 12  Property_Area_Semiurban  614 non-null    int64  \n",
      " 13  Property_Area_Urban      614 non-null    int64  \n",
      " 14  Loan_Status_Y            614 non-null    int64  \n",
      "dtypes: float64(4), int64(11)\n",
      "memory usage: 72.1 KB\n"
     ]
    }
   ],
   "source": [
    "df_dummies.info()"
   ]
  },
  {
   "cell_type": "code",
   "execution_count": 59,
   "id": "0939443b-d0e9-4781-890c-9fb2035c2baa",
   "metadata": {},
   "outputs": [],
   "source": [
    "df_final=df_dummies"
   ]
  },
  {
   "cell_type": "code",
   "execution_count": 61,
   "id": "51efe137-4c95-4e75-a249-23a3a63f9fa4",
   "metadata": {},
   "outputs": [
    {
     "data": {
      "text/plain": [
       "Loan_Status_Y\n",
       "1    422\n",
       "0    192\n",
       "Name: count, dtype: int64"
      ]
     },
     "execution_count": 61,
     "metadata": {},
     "output_type": "execute_result"
    }
   ],
   "source": [
    "df_final['Loan_Status_Y'].value_counts()"
   ]
  },
  {
   "cell_type": "markdown",
   "id": "b2be1e1e-0c47-45cc-97d0-c218b991e848",
   "metadata": {},
   "source": [
    "## Train test split , Robust Scaler"
   ]
  },
  {
   "cell_type": "code",
   "execution_count": 64,
   "id": "83302d21-10fe-48a0-bf1e-4b79e29a8747",
   "metadata": {},
   "outputs": [],
   "source": [
    "X = df_final.iloc[:, :-1]\n",
    "y = df_final.iloc[:, [-1]]  # Loan_Status - target - last column"
   ]
  },
  {
   "cell_type": "code",
   "execution_count": 66,
   "id": "8d22cf87-7c7b-4126-b0a1-4cd407caa6f6",
   "metadata": {},
   "outputs": [],
   "source": [
    "X_train, X_test, y_train, y_test = train_test_split(X,y, test_size = 0.2, random_state = 42, stratify = y)"
   ]
  },
  {
   "cell_type": "code",
   "execution_count": 68,
   "id": "1b1ed764-7a79-4003-a1eb-e21627f90e00",
   "metadata": {},
   "outputs": [],
   "source": [
    "scaler=RobustScaler()\n",
    "X_train.iloc[:,:] = scaler.fit_transform(X_train) # iloc for stay X as dataframe, not change to array\n",
    "X_test.iloc[:,:] = scaler.transform(X_test)"
   ]
  },
  {
   "cell_type": "markdown",
   "id": "aed012d0-3b52-477e-bc27-cf67fa17dcb1",
   "metadata": {},
   "source": [
    "## Oversampling"
   ]
  },
  {
   "cell_type": "code",
   "execution_count": 71,
   "id": "0073af56-1ab3-406f-ada5-670085bfe938",
   "metadata": {},
   "outputs": [
    {
     "data": {
      "text/plain": [
       "Loan_Status_Y\n",
       "1    422\n",
       "0    192\n",
       "Name: count, dtype: int64"
      ]
     },
     "execution_count": 71,
     "metadata": {},
     "output_type": "execute_result"
    }
   ],
   "source": [
    "df_final['Loan_Status_Y'].value_counts()"
   ]
  },
  {
   "cell_type": "code",
   "execution_count": 73,
   "id": "ff605ae4-a2ef-4594-aeee-b347c116ba44",
   "metadata": {},
   "outputs": [],
   "source": [
    "ros = RandomOverSampler(random_state = 0)"
   ]
  },
  {
   "cell_type": "code",
   "execution_count": 75,
   "id": "e1642f12-975f-480a-918b-3e9606745229",
   "metadata": {},
   "outputs": [],
   "source": [
    "X_train_os, y_train_os = ros.fit_resample(X_train, y_train)"
   ]
  },
  {
   "cell_type": "code",
   "execution_count": 77,
   "id": "4205f88f-ac51-4f94-b06d-f87ec434f2a6",
   "metadata": {},
   "outputs": [
    {
     "data": {
      "text/plain": [
       "Loan_Status_Y\n",
       "0                337\n",
       "1                337\n",
       "Name: count, dtype: int64"
      ]
     },
     "execution_count": 77,
     "metadata": {},
     "output_type": "execute_result"
    }
   ],
   "source": [
    "y_train_os.value_counts()"
   ]
  },
  {
   "cell_type": "code",
   "execution_count": 79,
   "id": "4344871d-cbf4-4b75-bd9d-279c0af578f9",
   "metadata": {},
   "outputs": [
    {
     "data": {
      "text/plain": [
       "Loan_Status_Y\n",
       "1                337\n",
       "0                154\n",
       "Name: count, dtype: int64"
      ]
     },
     "execution_count": 79,
     "metadata": {},
     "output_type": "execute_result"
    }
   ],
   "source": [
    "y_train.value_counts()"
   ]
  },
  {
   "cell_type": "markdown",
   "id": "26835fd8-2657-4743-b0fd-b1d6e1100ac8",
   "metadata": {},
   "source": [
    "## Undersampling"
   ]
  },
  {
   "cell_type": "code",
   "execution_count": 82,
   "id": "92158455-3453-4d23-bb03-dd734b69025c",
   "metadata": {},
   "outputs": [],
   "source": [
    "undersample = NearMiss(version = 1, n_neighbors = 3)\n",
    "X_train_us, y_train_us = undersample.fit_resample(X_train, y_train)"
   ]
  },
  {
   "cell_type": "code",
   "execution_count": 84,
   "id": "6484cc90-a455-46db-829f-80bb91098347",
   "metadata": {},
   "outputs": [
    {
     "data": {
      "text/plain": [
       "Loan_Status_Y\n",
       "0                154\n",
       "1                154\n",
       "Name: count, dtype: int64"
      ]
     },
     "execution_count": 84,
     "metadata": {},
     "output_type": "execute_result"
    }
   ],
   "source": [
    "y_train_us.value_counts()"
   ]
  },
  {
   "cell_type": "code",
   "execution_count": 86,
   "id": "11d3f969-25a4-406a-b38b-19809bbfad9f",
   "metadata": {},
   "outputs": [
    {
     "data": {
      "text/plain": [
       "Loan_Status_Y\n",
       "1                337\n",
       "0                154\n",
       "Name: count, dtype: int64"
      ]
     },
     "execution_count": 86,
     "metadata": {},
     "output_type": "execute_result"
    }
   ],
   "source": [
    "y_train.value_counts()"
   ]
  },
  {
   "cell_type": "markdown",
   "id": "8d937101-5692-493a-b8c4-a6c1ee760b6e",
   "metadata": {},
   "source": [
    "## Bagging Classifier (Bootstrap aggregating)"
   ]
  },
  {
   "cell_type": "code",
   "execution_count": 89,
   "id": "dda5d9b7-671f-4c93-a163-ae42ff32a984",
   "metadata": {},
   "outputs": [],
   "source": [
    "# try without over or undersampling"
   ]
  },
  {
   "cell_type": "code",
   "execution_count": 91,
   "id": "99349f8b-93fc-41f0-8d35-84a450566f83",
   "metadata": {},
   "outputs": [],
   "source": [
    "svm = SVC(probability = True)\n",
    "\n",
    "bag = BaggingClassifier(estimator = svm, n_estimators = 10, max_samples = 0.4, max_features = 7, \n",
    "                       bootstrap = True, bootstrap_features = True, random_state = 123)"
   ]
  },
  {
   "cell_type": "code",
   "execution_count": 93,
   "id": "b66cffe6-a75c-4cfb-844a-00f9458bee7b",
   "metadata": {},
   "outputs": [
    {
     "name": "stdout",
     "output_type": "stream",
     "text": [
      "              precision    recall  f1-score   support\n",
      "\n",
      "           0       0.95      0.50      0.66        38\n",
      "           1       0.82      0.99      0.89        85\n",
      "\n",
      "    accuracy                           0.84       123\n",
      "   macro avg       0.88      0.74      0.77       123\n",
      "weighted avg       0.86      0.84      0.82       123\n",
      "\n"
     ]
    }
   ],
   "source": [
    "bag.fit(X_train, y_train)\n",
    "bag_pred = bag.predict(X_test)\n",
    "print(classification_report(y_test, bag_pred))"
   ]
  },
  {
   "cell_type": "code",
   "execution_count": 95,
   "id": "55e78239-2015-4263-967d-242cf2ec8a0e",
   "metadata": {},
   "outputs": [],
   "source": [
    "# after oversampling, our model learned 0s better"
   ]
  },
  {
   "cell_type": "code",
   "execution_count": 97,
   "id": "c6315797-a889-48bd-9ae1-19fed73ce90b",
   "metadata": {},
   "outputs": [
    {
     "name": "stdout",
     "output_type": "stream",
     "text": [
      "              precision    recall  f1-score   support\n",
      "\n",
      "           0       0.60      0.74      0.66        38\n",
      "           1       0.87      0.78      0.82        85\n",
      "\n",
      "    accuracy                           0.76       123\n",
      "   macro avg       0.73      0.76      0.74       123\n",
      "weighted avg       0.78      0.76      0.77       123\n",
      "\n"
     ]
    }
   ],
   "source": [
    "bag.fit(X_train_os, y_train_os)\n",
    "bag_pred = bag.predict(X_test)\n",
    "print(classification_report(y_test, bag_pred))"
   ]
  },
  {
   "cell_type": "code",
   "execution_count": 99,
   "id": "34dca7d8-90e1-4b13-831c-f94115ffb6b4",
   "metadata": {},
   "outputs": [],
   "source": [
    "#after undersampling our model learned worse than before"
   ]
  },
  {
   "cell_type": "code",
   "execution_count": 101,
   "id": "62f32d3b-c75e-4e7d-979f-353275d7f368",
   "metadata": {},
   "outputs": [
    {
     "name": "stdout",
     "output_type": "stream",
     "text": [
      "              precision    recall  f1-score   support\n",
      "\n",
      "           0       0.43      0.71      0.53        38\n",
      "           1       0.82      0.58      0.68        85\n",
      "\n",
      "    accuracy                           0.62       123\n",
      "   macro avg       0.62      0.64      0.61       123\n",
      "weighted avg       0.70      0.62      0.63       123\n",
      "\n"
     ]
    }
   ],
   "source": [
    "bag.fit(X_train_us, y_train_us)\n",
    "bag_pred = bag.predict(X_test)\n",
    "print(classification_report(y_test, bag_pred))"
   ]
  },
  {
   "cell_type": "code",
   "execution_count": 103,
   "id": "6f2c83a0-d65f-4c46-baf2-ef94b706e762",
   "metadata": {},
   "outputs": [],
   "source": [
    "# results after undersampling  and oversampling is worse than before\n",
    "# so let's build next models with X_train, y_train "
   ]
  },
  {
   "cell_type": "code",
   "execution_count": 105,
   "id": "e65d03fe-389d-4355-9526-68de733a37cb",
   "metadata": {},
   "outputs": [],
   "source": [
    "classifier = RandomForestClassifier()\n",
    "bag_rf = BaggingClassifier(estimator = classifier, n_estimators = 10, max_samples = 0.4, max_features = 7, \n",
    "                       bootstrap = True, bootstrap_features = True, random_state = 123)\n"
   ]
  },
  {
   "cell_type": "code",
   "execution_count": 107,
   "id": "2d03e201-6b9c-4a3b-9b06-b60da7aff547",
   "metadata": {},
   "outputs": [
    {
     "name": "stdout",
     "output_type": "stream",
     "text": [
      "              precision    recall  f1-score   support\n",
      "\n",
      "           0       0.86      0.50      0.63        38\n",
      "           1       0.81      0.96      0.88        85\n",
      "\n",
      "    accuracy                           0.82       123\n",
      "   macro avg       0.84      0.73      0.76       123\n",
      "weighted avg       0.83      0.82      0.80       123\n",
      "\n"
     ]
    }
   ],
   "source": [
    "bag_rf.fit(X_train, y_train)\n",
    "bag_pred = bag_rf.predict(X_test)\n",
    "print(classification_report(y_test, bag_pred))"
   ]
  },
  {
   "cell_type": "markdown",
   "id": "f0baddfc-2734-43eb-9568-b1fe118ce3f9",
   "metadata": {},
   "source": [
    "## Gradient Boosting Classifier"
   ]
  },
  {
   "cell_type": "code",
   "execution_count": 110,
   "id": "25f49fae-540d-450b-aaaa-9efb9accf0cd",
   "metadata": {},
   "outputs": [
    {
     "name": "stdout",
     "output_type": "stream",
     "text": [
      "              precision    recall  f1-score   support\n",
      "\n",
      "           0       0.84      0.55      0.67        38\n",
      "           1       0.83      0.95      0.89        85\n",
      "\n",
      "    accuracy                           0.83       123\n",
      "   macro avg       0.83      0.75      0.78       123\n",
      "weighted avg       0.83      0.83      0.82       123\n",
      "\n"
     ]
    }
   ],
   "source": [
    "gbc = GradientBoostingClassifier(random_state = 0)\n",
    "gbc.fit(X_train, y_train)\n",
    "gbc_pred = gbc.predict(X_test)\n",
    "print(classification_report(y_test, gbc_pred))"
   ]
  },
  {
   "cell_type": "code",
   "execution_count": null,
   "id": "042df3a5-fca9-4222-8368-f54b98cf8a19",
   "metadata": {},
   "outputs": [],
   "source": []
  },
  {
   "cell_type": "markdown",
   "id": "a9d319a0-8656-4cbb-ade3-ed6a84f5dff1",
   "metadata": {},
   "source": [
    "## XGB Classifier"
   ]
  },
  {
   "cell_type": "code",
   "execution_count": 114,
   "id": "de50548c-76e4-4755-ad75-278b2c6d1565",
   "metadata": {},
   "outputs": [
    {
     "name": "stdout",
     "output_type": "stream",
     "text": [
      "              precision    recall  f1-score   support\n",
      "\n",
      "           0       0.68      0.66      0.67        38\n",
      "           1       0.85      0.86      0.85        85\n",
      "\n",
      "    accuracy                           0.80       123\n",
      "   macro avg       0.76      0.76      0.76       123\n",
      "weighted avg       0.80      0.80      0.80       123\n",
      "\n"
     ]
    }
   ],
   "source": [
    "xgb = XGBClassifier()\n",
    "xgb.fit(X_train, y_train)\n",
    "xgb_pred = xgb.predict(X_test)\n",
    "print(classification_report(y_test, xgb_pred))"
   ]
  },
  {
   "cell_type": "markdown",
   "id": "0bd37aa2-2e83-4a06-8ea9-26f935c03188",
   "metadata": {},
   "source": [
    "## lightgbm"
   ]
  },
  {
   "cell_type": "code",
   "execution_count": 117,
   "id": "f4307e58-feaa-400e-afc0-4de7be6273fe",
   "metadata": {},
   "outputs": [
    {
     "name": "stdout",
     "output_type": "stream",
     "text": [
      "[LightGBM] [Warning] Found whitespace in feature_names, replace with underlines\n",
      "[LightGBM] [Info] Number of positive: 337, number of negative: 154\n",
      "[LightGBM] [Info] Auto-choosing row-wise multi-threading, the overhead of testing was 0.000181 seconds.\n",
      "You can set `force_row_wise=true` to remove the overhead.\n",
      "And if memory is not enough, you can set `force_col_wise=true`.\n",
      "[LightGBM] [Info] Total Bins 374\n",
      "[LightGBM] [Info] Number of data points in the train set: 491, number of used features: 14\n",
      "[LightGBM] [Info] [binary:BoostFromScore]: pavg=0.686354 -> initscore=0.783130\n",
      "[LightGBM] [Info] Start training from score 0.783130\n",
      "[LightGBM] [Warning] No further splits with positive gain, best gain: -inf\n",
      "[LightGBM] [Warning] No further splits with positive gain, best gain: -inf\n",
      "[LightGBM] [Warning] No further splits with positive gain, best gain: -inf\n",
      "[LightGBM] [Warning] No further splits with positive gain, best gain: -inf\n",
      "[LightGBM] [Warning] No further splits with positive gain, best gain: -inf\n",
      "[LightGBM] [Warning] No further splits with positive gain, best gain: -inf\n",
      "[LightGBM] [Warning] No further splits with positive gain, best gain: -inf\n",
      "[LightGBM] [Warning] No further splits with positive gain, best gain: -inf\n",
      "[LightGBM] [Warning] No further splits with positive gain, best gain: -inf\n",
      "[LightGBM] [Warning] No further splits with positive gain, best gain: -inf\n",
      "[LightGBM] [Warning] No further splits with positive gain, best gain: -inf\n",
      "[LightGBM] [Warning] No further splits with positive gain, best gain: -inf\n",
      "[LightGBM] [Warning] No further splits with positive gain, best gain: -inf\n",
      "[LightGBM] [Warning] No further splits with positive gain, best gain: -inf\n",
      "[LightGBM] [Warning] No further splits with positive gain, best gain: -inf\n",
      "[LightGBM] [Warning] No further splits with positive gain, best gain: -inf\n",
      "[LightGBM] [Warning] No further splits with positive gain, best gain: -inf\n",
      "[LightGBM] [Warning] No further splits with positive gain, best gain: -inf\n",
      "[LightGBM] [Warning] No further splits with positive gain, best gain: -inf\n",
      "[LightGBM] [Warning] No further splits with positive gain, best gain: -inf\n",
      "[LightGBM] [Warning] No further splits with positive gain, best gain: -inf\n",
      "[LightGBM] [Warning] No further splits with positive gain, best gain: -inf\n",
      "[LightGBM] [Warning] No further splits with positive gain, best gain: -inf\n",
      "[LightGBM] [Warning] No further splits with positive gain, best gain: -inf\n",
      "[LightGBM] [Warning] No further splits with positive gain, best gain: -inf\n",
      "[LightGBM] [Warning] No further splits with positive gain, best gain: -inf\n",
      "[LightGBM] [Warning] No further splits with positive gain, best gain: -inf\n",
      "[LightGBM] [Warning] No further splits with positive gain, best gain: -inf\n",
      "[LightGBM] [Warning] No further splits with positive gain, best gain: -inf\n",
      "[LightGBM] [Warning] No further splits with positive gain, best gain: -inf\n",
      "[LightGBM] [Warning] No further splits with positive gain, best gain: -inf\n",
      "[LightGBM] [Warning] No further splits with positive gain, best gain: -inf\n",
      "[LightGBM] [Warning] No further splits with positive gain, best gain: -inf\n",
      "[LightGBM] [Warning] No further splits with positive gain, best gain: -inf\n",
      "[LightGBM] [Warning] No further splits with positive gain, best gain: -inf\n",
      "[LightGBM] [Warning] No further splits with positive gain, best gain: -inf\n",
      "[LightGBM] [Warning] No further splits with positive gain, best gain: -inf\n",
      "[LightGBM] [Warning] No further splits with positive gain, best gain: -inf\n",
      "[LightGBM] [Warning] No further splits with positive gain, best gain: -inf\n",
      "[LightGBM] [Warning] No further splits with positive gain, best gain: -inf\n",
      "[LightGBM] [Warning] No further splits with positive gain, best gain: -inf\n",
      "[LightGBM] [Warning] No further splits with positive gain, best gain: -inf\n",
      "[LightGBM] [Warning] No further splits with positive gain, best gain: -inf\n",
      "[LightGBM] [Warning] No further splits with positive gain, best gain: -inf\n",
      "[LightGBM] [Warning] No further splits with positive gain, best gain: -inf\n",
      "[LightGBM] [Warning] No further splits with positive gain, best gain: -inf\n",
      "[LightGBM] [Warning] No further splits with positive gain, best gain: -inf\n",
      "[LightGBM] [Warning] No further splits with positive gain, best gain: -inf\n",
      "[LightGBM] [Warning] No further splits with positive gain, best gain: -inf\n",
      "[LightGBM] [Warning] No further splits with positive gain, best gain: -inf\n",
      "[LightGBM] [Warning] No further splits with positive gain, best gain: -inf\n",
      "[LightGBM] [Warning] No further splits with positive gain, best gain: -inf\n",
      "[LightGBM] [Warning] No further splits with positive gain, best gain: -inf\n",
      "[LightGBM] [Warning] No further splits with positive gain, best gain: -inf\n",
      "[LightGBM] [Warning] No further splits with positive gain, best gain: -inf\n",
      "[LightGBM] [Warning] No further splits with positive gain, best gain: -inf\n",
      "[LightGBM] [Warning] No further splits with positive gain, best gain: -inf\n",
      "[LightGBM] [Warning] No further splits with positive gain, best gain: -inf\n",
      "[LightGBM] [Warning] No further splits with positive gain, best gain: -inf\n",
      "[LightGBM] [Warning] No further splits with positive gain, best gain: -inf\n",
      "[LightGBM] [Warning] No further splits with positive gain, best gain: -inf\n",
      "[LightGBM] [Warning] No further splits with positive gain, best gain: -inf\n",
      "[LightGBM] [Warning] No further splits with positive gain, best gain: -inf\n",
      "[LightGBM] [Warning] No further splits with positive gain, best gain: -inf\n",
      "[LightGBM] [Warning] No further splits with positive gain, best gain: -inf\n",
      "[LightGBM] [Warning] No further splits with positive gain, best gain: -inf\n",
      "[LightGBM] [Warning] No further splits with positive gain, best gain: -inf\n",
      "[LightGBM] [Warning] No further splits with positive gain, best gain: -inf\n",
      "[LightGBM] [Warning] No further splits with positive gain, best gain: -inf\n",
      "[LightGBM] [Warning] No further splits with positive gain, best gain: -inf\n",
      "[LightGBM] [Warning] No further splits with positive gain, best gain: -inf\n",
      "[LightGBM] [Warning] No further splits with positive gain, best gain: -inf\n",
      "[LightGBM] [Warning] No further splits with positive gain, best gain: -inf\n",
      "[LightGBM] [Warning] No further splits with positive gain, best gain: -inf\n",
      "[LightGBM] [Warning] No further splits with positive gain, best gain: -inf\n",
      "[LightGBM] [Warning] No further splits with positive gain, best gain: -inf\n",
      "[LightGBM] [Warning] No further splits with positive gain, best gain: -inf\n",
      "[LightGBM] [Warning] No further splits with positive gain, best gain: -inf\n",
      "[LightGBM] [Warning] No further splits with positive gain, best gain: -inf\n",
      "[LightGBM] [Warning] No further splits with positive gain, best gain: -inf\n",
      "[LightGBM] [Warning] No further splits with positive gain, best gain: -inf\n",
      "[LightGBM] [Warning] No further splits with positive gain, best gain: -inf\n",
      "[LightGBM] [Warning] No further splits with positive gain, best gain: -inf\n",
      "[LightGBM] [Warning] No further splits with positive gain, best gain: -inf\n",
      "[LightGBM] [Warning] No further splits with positive gain, best gain: -inf\n",
      "[LightGBM] [Warning] No further splits with positive gain, best gain: -inf\n",
      "[LightGBM] [Warning] No further splits with positive gain, best gain: -inf\n",
      "[LightGBM] [Warning] No further splits with positive gain, best gain: -inf\n",
      "[LightGBM] [Warning] No further splits with positive gain, best gain: -inf\n",
      "[LightGBM] [Warning] No further splits with positive gain, best gain: -inf\n",
      "[LightGBM] [Warning] No further splits with positive gain, best gain: -inf\n",
      "[LightGBM] [Warning] No further splits with positive gain, best gain: -inf\n",
      "[LightGBM] [Warning] No further splits with positive gain, best gain: -inf\n",
      "[LightGBM] [Warning] No further splits with positive gain, best gain: -inf\n",
      "[LightGBM] [Warning] No further splits with positive gain, best gain: -inf\n",
      "[LightGBM] [Warning] No further splits with positive gain, best gain: -inf\n",
      "[LightGBM] [Warning] No further splits with positive gain, best gain: -inf\n",
      "[LightGBM] [Warning] No further splits with positive gain, best gain: -inf\n",
      "[LightGBM] [Warning] No further splits with positive gain, best gain: -inf\n",
      "[LightGBM] [Warning] No further splits with positive gain, best gain: -inf\n",
      "              precision    recall  f1-score   support\n",
      "\n",
      "           0       0.76      0.66      0.70        38\n",
      "           1       0.86      0.91      0.88        85\n",
      "\n",
      "    accuracy                           0.83       123\n",
      "   macro avg       0.81      0.78      0.79       123\n",
      "weighted avg       0.83      0.83      0.83       123\n",
      "\n"
     ]
    }
   ],
   "source": [
    "lightgbm = lgb.LGBMClassifier()\n",
    "lightgbm.fit(X_train, y_train)\n",
    "lightgbm_pred = lightgbm.predict(X_test)\n",
    "print(classification_report(y_test, lightgbm_pred))"
   ]
  },
  {
   "cell_type": "code",
   "execution_count": null,
   "id": "63816558-df07-47da-a601-5d501aca3097",
   "metadata": {},
   "outputs": [],
   "source": []
  },
  {
   "cell_type": "markdown",
   "id": "7c1b1714-9c4d-4e5b-8739-39d89695dd9a",
   "metadata": {},
   "source": [
    "## CatBoostClassifier"
   ]
  },
  {
   "cell_type": "code",
   "execution_count": 121,
   "id": "dfdb05d6-3529-4a0a-acf0-69dd11300a3e",
   "metadata": {},
   "outputs": [
    {
     "name": "stdout",
     "output_type": "stream",
     "text": [
      "0:\tlearn: 0.5039831\ttotal: 137ms\tremaining: 137ms\n",
      "1:\tlearn: 0.4999887\ttotal: 138ms\tremaining: 0us\n",
      "              precision    recall  f1-score   support\n",
      "\n",
      "           0       0.95      0.55      0.70        38\n",
      "           1       0.83      0.99      0.90        85\n",
      "\n",
      "    accuracy                           0.85       123\n",
      "   macro avg       0.89      0.77      0.80       123\n",
      "weighted avg       0.87      0.85      0.84       123\n",
      "\n"
     ]
    }
   ],
   "source": [
    "catboost= CatBoostClassifier(iterations=2,\n",
    "                          learning_rate=1,\n",
    "                          depth=2)\n",
    "\n",
    "catboost.fit(X_train, y_train)\n",
    "catboost_pred = catboost.predict(X_test)\n",
    "print(classification_report(y_test, catboost_pred))"
   ]
  },
  {
   "cell_type": "code",
   "execution_count": null,
   "id": "86cabe6e-12b1-47fc-a5dc-cbc5f148db04",
   "metadata": {},
   "outputs": [],
   "source": []
  },
  {
   "cell_type": "markdown",
   "id": "5e90c269-2048-4557-8518-db9ad40618bc",
   "metadata": {},
   "source": [
    "## Voting"
   ]
  },
  {
   "cell_type": "code",
   "execution_count": 125,
   "id": "bf6d437a-b730-47d7-ae2c-4087a77bd783",
   "metadata": {},
   "outputs": [],
   "source": [
    "model1 = LogisticRegression()\n",
    "model2 = DecisionTreeClassifier()\n",
    "model3 = SVC()\n",
    "\n",
    "model1.fit(X_train, y_train)\n",
    "model2.fit(X_train, y_train)\n",
    "model3.fit(X_train, y_train)\n",
    "\n",
    "model1_pred = model1.predict(X_test)\n",
    "model2_pred = model2.predict(X_test)\n",
    "model3_pred = model3.predict(X_test)\n"
   ]
  },
  {
   "cell_type": "code",
   "execution_count": 127,
   "id": "77421a64-5000-4429-a435-bdde92b152f7",
   "metadata": {},
   "outputs": [
    {
     "name": "stdout",
     "output_type": "stream",
     "text": [
      "LogisticRegression               precision    recall  f1-score   support\n",
      "\n",
      "           0       0.96      0.58      0.72        38\n",
      "           1       0.84      0.99      0.91        85\n",
      "\n",
      "    accuracy                           0.86       123\n",
      "   macro avg       0.90      0.78      0.81       123\n",
      "weighted avg       0.88      0.86      0.85       123\n",
      "\n",
      "DecisionTreeClassifier               precision    recall  f1-score   support\n",
      "\n",
      "           0       0.55      0.61      0.57        38\n",
      "           1       0.81      0.78      0.80        85\n",
      "\n",
      "    accuracy                           0.72       123\n",
      "   macro avg       0.68      0.69      0.69       123\n",
      "weighted avg       0.73      0.72      0.73       123\n",
      "\n",
      "SVC               precision    recall  f1-score   support\n",
      "\n",
      "           0       0.75      0.08      0.14        38\n",
      "           1       0.71      0.99      0.82        85\n",
      "\n",
      "    accuracy                           0.71       123\n",
      "   macro avg       0.73      0.53      0.48       123\n",
      "weighted avg       0.72      0.71      0.61       123\n",
      "\n"
     ]
    }
   ],
   "source": [
    "model1.__class__.__name__\n",
    "print(model1.__class__.__name__ , classification_report(y_test, model1_pred))\n",
    "print(model2.__class__.__name__ , classification_report(y_test, model2_pred))\n",
    "print(model3.__class__.__name__ , classification_report(y_test, model3_pred))"
   ]
  },
  {
   "cell_type": "markdown",
   "id": "ab7fcc87-a04b-4498-b3a1-b20862ead3c3",
   "metadata": {},
   "source": [
    "##### Hard voting"
   ]
  },
  {
   "cell_type": "code",
   "execution_count": 130,
   "id": "51d15057-d013-4fa8-a01b-fb849eb438e7",
   "metadata": {},
   "outputs": [
    {
     "name": "stdout",
     "output_type": "stream",
     "text": [
      "              precision    recall  f1-score   support\n",
      "\n",
      "           0       0.90      0.50      0.64        38\n",
      "           1       0.81      0.98      0.89        85\n",
      "\n",
      "    accuracy                           0.83       123\n",
      "   macro avg       0.86      0.74      0.77       123\n",
      "weighted avg       0.84      0.83      0.81       123\n",
      "\n"
     ]
    }
   ],
   "source": [
    "estimators = [('lr', model1), ('dt', model2) , ('svm', model3) ] \n",
    "voting_hard = VotingClassifier(estimators, voting=\"hard\")\n",
    "voting_hard.fit(X_train, y_train)\n",
    "voting_hard_pred = voting_hard.predict(X_test)\n",
    "print(classification_report(y_test, voting_hard_pred))"
   ]
  },
  {
   "cell_type": "markdown",
   "id": "e69516d5-d05f-4b13-8dc0-c34e059357c3",
   "metadata": {},
   "source": [
    "##### Soft voting"
   ]
  },
  {
   "cell_type": "code",
   "execution_count": 133,
   "id": "8cbdb05c-33d0-49b3-8202-e419b7f527f1",
   "metadata": {},
   "outputs": [
    {
     "name": "stdout",
     "output_type": "stream",
     "text": [
      "              precision    recall  f1-score   support\n",
      "\n",
      "           0       0.62      0.61      0.61        38\n",
      "           1       0.83      0.84      0.83        85\n",
      "\n",
      "    accuracy                           0.76       123\n",
      "   macro avg       0.72      0.72      0.72       123\n",
      "weighted avg       0.76      0.76      0.76       123\n",
      "\n"
     ]
    }
   ],
   "source": [
    "model4 = SVC(probability=True)  # need probability for soft voting, that's why build model4 with Probability=true\n",
    "estimators = [('lr', model1), ('dt', model2) , ('svm', model4) ] \n",
    "voting_soft = VotingClassifier(estimators, voting=\"soft\")\n",
    "voting_soft.fit(X_train, y_train)\n",
    "voting_soft_pred = voting_soft.predict(X_test)\n",
    "print(classification_report(y_test, voting_soft_pred))"
   ]
  },
  {
   "cell_type": "code",
   "execution_count": 135,
   "id": "5280da80-dee8-4927-9c52-4cf80630b0b1",
   "metadata": {},
   "outputs": [],
   "source": [
    "# CatBoost has the highest F1 score and accuracy"
   ]
  },
  {
   "cell_type": "code",
   "execution_count": null,
   "id": "45586c83-73f6-4295-82ce-d5aad5cb8f2a",
   "metadata": {},
   "outputs": [],
   "source": []
  },
  {
   "cell_type": "code",
   "execution_count": null,
   "id": "d00cc3d1-37bc-40b6-8b36-de142d97a0e3",
   "metadata": {},
   "outputs": [],
   "source": []
  }
 ],
 "metadata": {
  "kernelspec": {
   "display_name": "Python 3 (ipykernel)",
   "language": "python",
   "name": "python3"
  },
  "language_info": {
   "codemirror_mode": {
    "name": "ipython",
    "version": 3
   },
   "file_extension": ".py",
   "mimetype": "text/x-python",
   "name": "python",
   "nbconvert_exporter": "python",
   "pygments_lexer": "ipython3",
   "version": "3.12.4"
  }
 },
 "nbformat": 4,
 "nbformat_minor": 5
}
